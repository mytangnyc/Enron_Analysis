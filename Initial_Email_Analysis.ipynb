{
  "nbformat": 4,
  "nbformat_minor": 0,
  "metadata": {
    "colab": {
      "name": "Initial_Email_Analysis.ipynb",
      "provenance": [],
      "collapsed_sections": [],
      "mount_file_id": "https://github.com/mytangnyc/Enron_Analysis/blob/main/Initial_Email_Analysis.ipynb",
      "authorship_tag": "ABX9TyPnYx2EA3juvXFhewGvpRVO",
      "include_colab_link": true
    },
    "kernelspec": {
      "name": "python3",
      "display_name": "Python 3"
    },
    "language_info": {
      "name": "python"
    }
  },
  "cells": [
    {
      "cell_type": "markdown",
      "metadata": {
        "id": "view-in-github",
        "colab_type": "text"
      },
      "source": [
        "<a href=\"https://colab.research.google.com/github/mytangnyc/Enron_Analysis/blob/main/Initial_Email_Analysis.ipynb\" target=\"_parent\"><img src=\"https://colab.research.google.com/assets/colab-badge.svg\" alt=\"Open In Colab\"/></a>"
      ]
    },
    {
      "cell_type": "code",
      "metadata": {
        "colab": {
          "base_uri": "https://localhost:8080/"
        },
        "id": "neJh2HPQv5H-",
        "outputId": "57ba61e9-9675-4c59-e2cb-b49068394cd3"
      },
      "source": [
        "import requests\n",
        "import pandas as pd\n",
        "import numpy as np\n",
        "from dateutil import parser\n",
        "import json\n",
        "import matplotlib.pyplot as plt\n",
        "import matplotlib.dates as mdates\n",
        "import os\n",
        "import pickle\n",
        "\n",
        "import networkx as nx\n",
        "import seaborn as sns\n",
        "\n",
        "host = 'http://18.188.56.207:9200/'\n",
        "requests.get(host + '_cat/indices/enron').content"
      ],
      "execution_count": 1,
      "outputs": [
        {
          "output_type": "execute_result",
          "data": {
            "text/plain": [
              "b'yellow open enron fknPAAZdSL6-SjWpBvfASw 1 1 251734 0 539.9mb 539.9mb\\n'"
            ]
          },
          "metadata": {
            "tags": []
          },
          "execution_count": 1
        }
      ]
    },
    {
      "cell_type": "code",
      "metadata": {
        "id": "Qum2h1dkwgxa"
      },
      "source": [
        "def elasticsearch_results_to_df(results):\n",
        "    '''\n",
        "    A function that will take the results of a requests.get \n",
        "    call to Elasticsearch and return a pandas.DataFrame object \n",
        "    with the results \n",
        "    '''\n",
        "    hits = results.json()['hits']['hits']\n",
        "    data = pd.DataFrame([i['_source'] for i in hits], index = [i['_id'] for i in hits])\n",
        "    data['date'] = data['date'].apply(parser.parse)\n",
        "    return(data)\n",
        "\n",
        "def print_df_row(row):\n",
        "    '''\n",
        "    A function that will take a row of the data frame and print it out\n",
        "    '''\n",
        "    print('____________________')\n",
        "    print('RE: %s' % row.get('subject',''))\n",
        "    print('At: %s' % row.get('date',''))\n",
        "    print('From: %s' % row.get('sender',''))\n",
        "    print('To: %s' % row.get('recipients',''))\n",
        "    print('CC: %s' % row.get('cc',''))\n",
        "    print('BCC: %s' % row.get('bcc',''))\n",
        "    print('Body:\\n%s' % row.get('text',''))\n",
        "    print('____________________')\n",
        "\n",
        "def pltgraph_interval(df):\n",
        "    cwd = os.getcwd()\n",
        "    filepath = os.path.join(cwd, \"drive/MyDrive/Colab Notebooks/dataframes/prices_events.pickle\")\n",
        "    df_prices_events = pd.read_pickle(filepath)\n",
        "\n",
        "    #Create combo chart\n",
        "    fig, ax1 = plt.subplots(figsize=(10,6))\n",
        "    color = 'tab:green'\n",
        "    #bar plot creation\n",
        "    ax1.set_title('Enron Price Over Time', fontsize=16)\n",
        "    ax1.set_xlabel('Quarter', fontsize=16)\n",
        "    ax1.set_ylabel('Price', fontsize=16)\n",
        "    sns.lineplot(data=df_prices_events, x=\"Date\", y=\"Close\")\n",
        "    sns.scatterplot(data=df_prices_events, x=\"Date\", y=\"Close\", hue='Event_Type', s=75, edgecolor='r',\n",
        "                    linewidth=1)  # Baseline and markers on it.\n",
        "    ax1.get_xaxis().set_major_locator(mdates.MonthLocator(interval=4))\n",
        "    ax1.get_xaxis().set_major_formatter(mdates.DateFormatter(\"%b %Y\"))\n",
        "    plt.setp(ax1.get_xticklabels(), rotation=30, ha=\"right\")\n",
        "    ax1.tick_params(axis='y')\n",
        "\n",
        "    plt.axvline(x=df['date'].min())\n",
        "    plt.axvline(x=df['date'].max())\n",
        "\n",
        "    plt.show()"
      ],
      "execution_count": 2,
      "outputs": []
    },
    {
      "cell_type": "code",
      "metadata": {
        "colab": {
          "base_uri": "https://localhost:8080/"
        },
        "id": "KSWlvyvUwnmZ",
        "outputId": "3bb2f4c9-8556-4e94-ce47-c17dabb67c39"
      },
      "source": [
        "doc = {\n",
        "  \"query\": {\n",
        "    \"query_string\": {\n",
        "      \"query\":    \"barge AND nigeria\",\n",
        "      \"fields\": [ \"text\"]\n",
        "    }\n",
        "  },\n",
        "    \"from\" : 0, # Starting message to return. \n",
        "    \"size\" : 10000, # Return this many messages. Can't be more than 10,000\n",
        "}\n",
        "r=requests.get(host + 'enron/_search',\n",
        "               data=json.dumps(doc), headers={'Content-Type':'application/json'})\n",
        "r.raise_for_status()\n",
        "print(\"Found %s messages matching the query, of \" % r.json()['hits']['total'])\n",
        "df = elasticsearch_results_to_df(r)\n",
        "print(\"Returned %s messages\" % df.shape[0])"
      ],
      "execution_count": 3,
      "outputs": [
        {
          "output_type": "stream",
          "text": [
            "Found {'value': 17, 'relation': 'eq'} messages matching the query, of \n",
            "Returned 17 messages\n"
          ],
          "name": "stdout"
        }
      ]
    },
    {
      "cell_type": "code",
      "metadata": {
        "id": "560TsRsfwp9j"
      },
      "source": [
        "#######Organize to determine connected Graph\n",
        "data_to_merge = df[['sender', 'recipients', 'cc', 'bcc']].dropna(subset=['recipients']).drop_duplicates() # select columns, remove NaN\n",
        "records = data_to_merge.to_records(index=True)"
      ],
      "execution_count": 4,
      "outputs": []
    },
    {
      "cell_type": "code",
      "metadata": {
        "id": "oTYu88-jwsdG"
      },
      "source": [
        "def email_extract(x):\n",
        "    extract = []\n",
        "    for row in x:\n",
        "        if len(row[2]) > 1:\n",
        "            row[2] = row[2].strip().split()\n",
        "            [extract.append((row[0], row[1], x)) for x in row[2]]            \n",
        "        else:\n",
        "            [extract.append((row[0], row[1], row[x])) for x in range(2, len(row))]\n",
        "    return extract\n",
        "\n",
        "#Extract all e-mail records and generate the list of nodes\n",
        "all_mails = email_extract(records)\n",
        "all_mails_df = pd.DataFrame.from_records(all_mails, columns=['orig_id', 'sender', 'recipient'])\n",
        "all_mails_df = all_mails_df.dropna(subset=['recipient']).drop_duplicates()\n",
        "all_address_lst = all_mails_df['sender'].values.tolist()\n",
        "all_address_lst.extend(all_mails_df['recipient'].values.tolist())\n",
        "all_address_lst = list(set(all_address_lst))\n",
        "node_list = dict(zip(all_address_lst, range(len(all_address_lst))))"
      ],
      "execution_count": 5,
      "outputs": []
    },
    {
      "cell_type": "code",
      "metadata": {
        "id": "uLhlzyFuwuCc"
      },
      "source": [
        "#Generate nodes and edges to prep for plotting.\n",
        "graph_df = all_mails_df\n",
        "graph_df['edge_1'] = graph_df['sender'].apply(lambda x: node_list[x])\n",
        "graph_df['edge_2'] = graph_df['recipient'].apply(lambda x: node_list[x])\n",
        "graph_df['sender_short'] = graph_df['sender'].str.split(\"@\")\n",
        "graph_df['sender_short'] = graph_df['sender_short'].apply(lambda x: x[0])\n",
        "graph_df['recipient_short'] = graph_df['recipient'].str.split(\"@\")\n",
        "graph_df['recipient_short'] = graph_df['recipient_short'].apply(lambda x: x[0])"
      ],
      "execution_count": 6,
      "outputs": []
    },
    {
      "cell_type": "code",
      "metadata": {
        "id": "u9aYoynowvys"
      },
      "source": [
        "#Generate the node graphs to determine networks through ego graphs\n",
        "G = nx.Graph()\n",
        "G.clear()\n",
        "G.add_nodes_from(nodes_for_adding=node_list)\n",
        "G = nx.from_pandas_edgelist(df=graph_df, source='sender_short', target='recipient_short', edge_attr='orig_id')\n",
        "node_and_degree = G.degree()\n",
        "#(largest_hub, degree) = sorted(node_and_degree, key=itemgetter(1))[-1]\n",
        "full_sorted = sorted(node_and_degree, key=lambda x: x[1])\n",
        "(largest_hub, degree) = full_sorted[-4]"
      ],
      "execution_count": 7,
      "outputs": []
    },
    {
      "cell_type": "code",
      "metadata": {
        "colab": {
          "base_uri": "https://localhost:8080/",
          "height": 319
        },
        "id": "PTCdv9ajwxpN",
        "outputId": "2c164f0b-38ab-4439-8723-28466c35996a"
      },
      "source": [
        "hub_ego = nx.ego_graph(G, largest_hub, radius=2)\n",
        "\n",
        "# Draw graph\n",
        "pos = nx.spring_layout(hub_ego)\n",
        "nx.draw(hub_ego, pos, node_color=\"b\", node_size=50, with_labels=True)\n",
        "options = {\"node_size\": 300, \"node_color\": \"r\"}\n",
        "nx.draw_networkx_nodes(hub_ego, pos, nodelist=[largest_hub], **options)\n",
        "plt.show()"
      ],
      "execution_count": 8,
      "outputs": [
        {
          "output_type": "display_data",
          "data": {
            "image/png": "[encoded data removed]",
            "text/plain": [
              "<Figure size 432x288 with 1 Axes>"
            ]
          },
          "metadata": {
            "tags": []
          }
        }
      ]
    },
    {
      "cell_type": "code",
      "metadata": {
        "id": "oxNxlRj3wzSs"
      },
      "source": [
        ""
      ],
      "execution_count": 8,
      "outputs": []
    },
    {
      "cell_type": "code",
      "metadata": {
        "colab": {
          "base_uri": "https://localhost:8080/"
        },
        "id": "Wop7Pfc0w7mA",
        "outputId": "c1a3f416-3670-4c2a-8d60-fef876688b9b"
      },
      "source": [
        "doc = {\n",
        "  \"query\": {\n",
        "    \"query_string\": {\n",
        "      \"query\":    \"barge AND nigeria\",\n",
        "      \"fields\": [ \"text\"]\n",
        "    }\n",
        "  },\n",
        "    \"from\" : 0, # Starting message to return. \n",
        "    \"size\" : 10000, # Return this many messages. Can't be more than 10,000\n",
        "}\n",
        "r=requests.get(host + 'enron/_search',\n",
        "               data=json.dumps(doc), headers={'Content-Type':'application/json'})\n",
        "r.raise_for_status()\n",
        "print(\"Found %s messages matching the query, of \" % r.json()['hits']['total'])\n",
        "df = elasticsearch_results_to_df(r)\n",
        "print(\"Returned %s messages\" % df.shape[0])"
      ],
      "execution_count": 9,
      "outputs": [
        {
          "output_type": "stream",
          "text": [
            "Found {'value': 17, 'relation': 'eq'} messages matching the query, of \n",
            "Returned 17 messages\n"
          ],
          "name": "stdout"
        }
      ]
    },
    {
      "cell_type": "code",
      "metadata": {
        "id": "WsPSPK5Tw8aY"
      },
      "source": [
        ""
      ],
      "execution_count": 9,
      "outputs": []
    },
    {
      "cell_type": "code",
      "metadata": {
        "colab": {
          "base_uri": "https://localhost:8080/"
        },
        "id": "oIQfG--Kw_-t",
        "outputId": "45eb60c2-962f-414a-d0e7-34fa7d997385"
      },
      "source": [
        "doc = {\n",
        "  \"query\": {\n",
        "    \"query_string\": {\n",
        "      \"query\":    \"nigeria barge\",\n",
        "      \"fields\": [ \"text\"]\n",
        "    }\n",
        "  },\n",
        "    \"from\" : 0, # Starting message to return. \n",
        "    \"size\" : 10000, # Return this many messages. Can't be more than 10,000\n",
        "}\n",
        "r=requests.get(host + 'enron/_search',\n",
        "               data=json.dumps(doc), headers={'Content-Type':'application/json'})\n",
        "r.raise_for_status()\n",
        "print(\"Found %s messages matching the query, of \" % r.json()['hits']['total'])\n",
        "df = elasticsearch_results_to_df(r)\n",
        "print(\"Returned %s messages\" % df.shape[0])"
      ],
      "execution_count": 10,
      "outputs": [
        {
          "output_type": "stream",
          "text": [
            "Found {'value': 255, 'relation': 'eq'} messages matching the query, of \n",
            "Returned 255 messages\n"
          ],
          "name": "stdout"
        }
      ]
    },
    {
      "cell_type": "code",
      "metadata": {
        "id": "87RX0oWnxArQ"
      },
      "source": [
        ""
      ],
      "execution_count": 10,
      "outputs": []
    },
    {
      "cell_type": "code",
      "metadata": {
        "id": "IGv4MNbuxDId"
      },
      "source": [
        "excludes = ['Energy Issues', 'weekly report', 'Enron Mentions', 'Telecommunications Reports']\n",
        "df_filtered = df[~df['subject'].str.contains('|'.join(excludes))]"
      ],
      "execution_count": 11,
      "outputs": []
    },
    {
      "cell_type": "code",
      "metadata": {
        "id": "Y4IP67omxE9J"
      },
      "source": [
        "cwd = os.getcwd()\n",
        "filepath = os.path.join(cwd, \"../test.csv\")\n",
        "df_filtered.to_csv(filepath)"
      ],
      "execution_count": 12,
      "outputs": []
    },
    {
      "cell_type": "code",
      "metadata": {
        "id": "BIwwkUcZxGQh"
      },
      "source": [
        ""
      ],
      "execution_count": 12,
      "outputs": []
    },
    {
      "cell_type": "code",
      "metadata": {
        "colab": {
          "base_uri": "https://localhost:8080/"
        },
        "id": "7jvL5HB2xIBe",
        "outputId": "3996c04f-c184-4343-c27e-3fcc98e12307"
      },
      "source": [
        "doc = {\n",
        "  \"query\": {\n",
        "    \"query_string\": {\n",
        "      \"query\":    \"JEDI OR raptor OR LJM OR whitewing\",\n",
        "      \"fields\": [ \"text\"]\n",
        "    }\n",
        "  },\n",
        "    \"from\" : 0, # Starting message to return. \n",
        "    \"size\" : 10000, # Return this many messages. Can't be more than 10,000\n",
        "}\n",
        "r=requests.get(host + 'enron/_search',\n",
        "               data=json.dumps(doc), headers={'Content-Type':'application/json'})\n",
        "r.raise_for_status()\n",
        "print(\"Found %s messages matching the query, of \" % r.json()['hits']['total'])\n",
        "df = elasticsearch_results_to_df(r)\n",
        "print(\"Returned %s messages\" % df.shape[0])"
      ],
      "execution_count": 13,
      "outputs": [
        {
          "output_type": "stream",
          "text": [
            "Found {'value': 691, 'relation': 'eq'} messages matching the query, of \n",
            "Returned 691 messages\n"
          ],
          "name": "stdout"
        }
      ]
    },
    {
      "cell_type": "code",
      "metadata": {
        "id": "yXtbjK0axJOe"
      },
      "source": [
        ""
      ],
      "execution_count": 13,
      "outputs": []
    },
    {
      "cell_type": "code",
      "metadata": {
        "id": "ydwJ7jEJxMif"
      },
      "source": [
        "# df[df.index =='170923']['text'].values #Acquired remaining interest in Barge (Full Sale)\n",
        "# df[df.index =='195506']['text'].values #Demar Projected Cashflow\n",
        "# df[df.index =='91418']['text'].values #Nigerian Barge as Support function for other roles?\n",
        "# df[df.index =='135830']['text'].values #Cost basis on barges\n",
        "# df[df.index =='203486']['text'].values #Interplay between Enron Nigeria Barge Ltd. and LJM2\n",
        "# df[df.index =='203486']['text'].values #Interplay between Enron Nigeria Barge Ltd. and LJM2\n",
        "# df[df.index =='143956']['text'].values #Demar Revenue Recognition\n",
        "# df[df.index =='247178']['text'].values #Demar Revenue Recognition 2\n",
        "# df[df.index =='52294']['text'].values #Possible Supply Manipulation to change Price? Holding Switching Demand?\n",
        "# df[df.index =='67150']['text'].values #Difficulties justifying Methanold Plant valuation on balance sheet?\n",
        "# df[df.index =='234402']['text'].values #JEDI Sale to related party\n",
        "# df[df.index =='111079']['text'].values #LJM and Raptor valuations -- This is a pretty good one\n",
        "# df[df.index =='226995']['text'].values #JEDI Investment Percentage\n",
        "# df[df.index =='118002']['text'].values #Litigation holds.\n",
        "# df[df.index =='118002']['text'].values #Litigation holds.\n",
        "# df[df.index =='49600']['text'].values #Raptor Unwinds and loss consolidation onto balance sheet.\n",
        "# df[df.index =='36575']['text'].values #\"Owners\" of movements into/out of SPVs. Also additional SPV names added below\n",
        "# df[df.index =='148516']['text'].values #SPV Purchase agreements\n",
        "# df[df.index =='50309']['text'].values #SEC 8K Report reflecting consolidation of SPVs onto balance sheet.\n",
        "# df[df.index =='107846']['text'].values #Sale of Brigham to JEDI and ENA\n",
        "# df[df.index =='230169']['text'].values #Description of SPV rules.\n",
        "# df[df.index =='219158']['text'].values #Whitewing structure.\n",
        "# df[df.index =='38742']['text'].values #Raptors seemed like a \"cushion\" for revenues for Enron\n",
        "# df[df.index =='75294']['text'].values #Raptor Cushions lead to equity dilution? I don't quite understand this.\n",
        "# df[df.index =='183824']['text'].values #TRS (Total Return Swaps)? Can we get attachments?\n",
        "\n",
        "###Other structures worth investigating: LJM, Azurix, New Power Co., EBS, Chewco, Raptor, Whitewing, Marlin,\n",
        "###Atlantic, Osprey, Braveheart, Yosemite, MEGS, Margaux, Backbone, Nahanni, Moose, Fishtail, Blackhawk,\n",
        "###Portland General, Elektro, Cuiaba, Nowa Sarzyna, Dabhol, Dynergy, Rio Piedras, Merlin, Rawhide, Hawaii"
      ],
      "execution_count": 14,
      "outputs": []
    },
    {
      "cell_type": "code",
      "metadata": {
        "id": "Ic5v2AEqxNTD"
      },
      "source": [
        ""
      ],
      "execution_count": 14,
      "outputs": []
    },
    {
      "cell_type": "code",
      "metadata": {
        "id": "8aUwlsMmxQGV"
      },
      "source": [
        "#Get Stock Prices and events list"
      ],
      "execution_count": 15,
      "outputs": []
    },
    {
      "cell_type": "code",
      "metadata": {
        "colab": {
          "base_uri": "https://localhost:8080/"
        },
        "id": "NuKeVQIRxVr_",
        "outputId": "afc90800-da29-4327-b9c3-0c61217695cd"
      },
      "source": [
        "doc = {\n",
        "  \"query\": {\n",
        "    \"query_string\": {\n",
        "      \"query\":    \"barge AND nigeria\",\n",
        "      \"fields\": [ \"text\"]\n",
        "    }\n",
        "  },\n",
        "    \"from\" : 0, # Starting message to return. \n",
        "    \"size\" : 10000, # Return this many messages. Can't be more than 10,000\n",
        "}\n",
        "r=requests.get(host + 'enron/_search',\n",
        "               data=json.dumps(doc), headers={'Content-Type':'application/json'})\n",
        "r.raise_for_status()\n",
        "print(\"Found %s messages matching the query, of \" % r.json()['hits']['total'])\n",
        "df = elasticsearch_results_to_df(r)\n",
        "print(\"Returned %s messages\" % df.shape[0])"
      ],
      "execution_count": 16,
      "outputs": [
        {
          "output_type": "stream",
          "text": [
            "Found {'value': 17, 'relation': 'eq'} messages matching the query, of \n",
            "Returned 17 messages\n"
          ],
          "name": "stdout"
        }
      ]
    },
    {
      "cell_type": "code",
      "metadata": {
        "colab": {
          "base_uri": "https://localhost:8080/",
          "height": 434
        },
        "id": "egEDCZ6mxYNt",
        "outputId": "d9e8304c-ac22-450f-ddca-9fd683f3d3df"
      },
      "source": [
        "pltgraph_interval(df)"
      ],
      "execution_count": 17,
      "outputs": [
        {
          "output_type": "display_data",
          "data": {
            "image/png": "[encoded data removed]",
            "text/plain": [
              "<Figure size 720x432 with 1 Axes>"
            ]
          },
          "metadata": {
            "tags": [],
            "needs_background": "light"
          }
        }
      ]
    },
    {
      "cell_type": "code",
      "metadata": {
        "id": "U-GYeNMexavX"
      },
      "source": [
        ""
      ],
      "execution_count": null,
      "outputs": []
    }
  ]
}