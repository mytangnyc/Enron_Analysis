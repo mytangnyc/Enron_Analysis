{
 "cells": [
  {
   "cell_type": "code",
   "execution_count": 17,
   "id": "asian-orleans",
   "metadata": {},
   "outputs": [],
   "source": [
    "import pandas as pd\n",
    "import numpy as np\n",
    "import matplotlib.pyplot as plt\n",
    "import matplotlib.dates as mdates\n",
    "import seaborn as sns\n",
    "import os\n",
    "import pickle\n",
    "\n",
    "import tabula\n",
    "import edgar"
   ]
  },
  {
   "cell_type": "code",
   "execution_count": 2,
   "id": "aware-municipality",
   "metadata": {},
   "outputs": [],
   "source": [
    "#Running a search for Enron on the SEC EDGAR database shows the following entities related to Enron\n",
    "# 0001043166   ENRON CAPITAL & TRADE RESOURCES CORP\n",
    "# 0001024401   ENRON CORP/OR/      \n",
    "# 0001025965   ENRON PREFERRED FUNDING L P\n",
    "# 0000869458   ENRON RESERVE ACQUISITION CORP\n",
    "# 0000072859   ENRON CORP          \n",
    "# 0001055219   ENRON CAPITAL MANAGEMENT LP\n",
    "# 0000934175   ENRON FINANCE CORP ET AL\n",
    "# 0001358216   ENRON DISPUTED CLAIMS RESERVE\n",
    "# 0001055220   ENRON CAPITAL CORP  \n",
    "# 0001024401   ENRON OREGON CORP   \n",
    "# 0000924024   ENRON CAPITAL RESOURCES LP\n",
    "# 0000931583   ENRON GLOBAL POWER & PIPELINES LLC\n",
    "# 0001025966   ENRON CAPITAL TRUST I\n",
    "# 0001029532   ENRON CAPITAL TRUST II\n",
    "# 0001067507   ENRON INTERNATIONAL CPO L P\n",
    "# 0001067508   ENRON INTERNATIONAL CPO INC\n",
    "# 0001043166   ENRON NORTH AMERICA CORP\n",
    "# 0000888228   ENRON LIQUIDS PIPELINE L P\n",
    "# 0001218889   ENRON PIPELINE CO ARGENTINA S A\n",
    "# 0001481789   ENRON NY LLC        \n",
    "# 0000821189   ENRON OIL & GAS CO\n",
    "# 0001031087   ENRON LIQUIDS PIPELINE CO\n",
    "# 0001029533   ENRON PREFERRED FUNDING II L P"
   ]
  },
  {
   "cell_type": "code",
   "execution_count": 3,
   "id": "quick-storm",
   "metadata": {},
   "outputs": [],
   "source": [
    "#edgar.download_index(\"filings\", 1999, skip_all_present_except_last=False)\n",
    "#Manually remove all files after 2002, then run the following grep line\n",
    "#grep -h '0001043166\\|0001055220\\|0001055219\\|0000924024\\|0001025966\\|0001029532\\|0001024401\\|0000072859\\|0001358216\\|0000934175\\|0000931583\\|0001067508\\|0001067507\\|0001031087\\|0000888228\\|0001043166\\|0001481789\\|0000821189\\|0001024401\\|0001218889\\|0001029533\\|0001025965\\|0000869458' \\/filings\\/* > enron_filings.txt"
   ]
  },
  {
   "cell_type": "code",
   "execution_count": 4,
   "id": "compressed-edmonton",
   "metadata": {},
   "outputs": [],
   "source": [
    "cwd = os.getcwd()\n",
    "path = os.path.join(cwd, \"../filings/enron_filings.txt\")\n",
    "\n",
    "header_list = [\"CIX\", \"Name\", \"Filing\", \"Submission Date\", \"Txt_URL\", \"HTML_URL\"]\n",
    "df = pd.read_csv(path, delimiter = '|', parse_dates=['Submission Date'], header=None, names=header_list)\n",
    "\n",
    "names_array = df['Name'].unique()"
   ]
  },
  {
   "cell_type": "code",
   "execution_count": 5,
   "id": "pediatric-evans",
   "metadata": {},
   "outputs": [],
   "source": [
    "enron_names = []\n",
    "for item in names_array:\n",
    "    if item.find(\"ENRON\") != -1:\n",
    "        enron_names.append(item)"
   ]
  },
  {
   "cell_type": "code",
   "execution_count": 6,
   "id": "arranged-disco",
   "metadata": {},
   "outputs": [],
   "source": [
    "df_enron = df[df['Name'].isin(enron_names)].reset_index(drop=True)\n",
    "\n",
    "zip_names = df_enron['Name'].unique()\n",
    "zip_codes = ['C','T1','T2']\n",
    "enron_dictionary = dict(zip(zip_names, zip_codes))\n",
    "\n",
    "dates = df_enron['Submission Date']\n",
    "names = df_enron['Name'].apply(lambda x: enron_dictionary[x])"
   ]
  },
  {
   "cell_type": "code",
   "execution_count": 7,
   "id": "therapeutic-pattern",
   "metadata": {},
   "outputs": [
    {
     "data": {
      "text/plain": [
       "{'ENRON CORP/OR/': 'C',\n",
       " 'ENRON CAPITAL TRUST I': 'T1',\n",
       " 'ENRON CAPITAL TRUST II': 'T2'}"
      ]
     },
     "execution_count": 7,
     "metadata": {},
     "output_type": "execute_result"
    }
   ],
   "source": [
    "enron_dictionary"
   ]
  },
  {
   "cell_type": "code",
   "execution_count": 8,
   "id": "sitting-bones",
   "metadata": {},
   "outputs": [
    {
     "data": {
      "image/png": "[encoded data removed]",
      "text/plain": [
       "<Figure size 633.6x288 with 1 Axes>"
      ]
     },
     "metadata": {
      "needs_background": "light"
     },
     "output_type": "display_data"
    }
   ],
   "source": [
    "#Plot SEC filings on graph, Note C is for Enron Corp, T1 is for Enron Capital Trust I, T2 is Enron Capital Trust II\n",
    "levels = np.tile([3, -3, 2, -2, 1, -1],\n",
    "                 int(np.ceil(len(names))))[:len(names)]\n",
    "ig, ax = plt.subplots(figsize=(8.8, 4), constrained_layout=True)\n",
    "ax.set(title=\"Enron Filings Timeline\")\n",
    "ax.vlines(dates, 0, levels, color=\"tab:red\")  # The vertical stems.\n",
    "ax.plot(dates, np.zeros_like(dates), \"-o\",\n",
    "        color=\"k\", markerfacecolor=\"w\")  # Baseline and markers on it.\n",
    "\n",
    "#annotate lines\n",
    "for d, l, r in zip(dates, levels, names):\n",
    "    ax.annotate(r, xy=(d, l),\n",
    "                xytext=(-3, np.sign(l)*1), textcoords=\"offset points\",\n",
    "                horizontalalignment=\"right\",\n",
    "                verticalalignment=\"bottom\" if l > 0 else \"top\")\n",
    "    \n",
    "# format xaxis with 4 month intervals\n",
    "ax.get_xaxis().set_major_locator(mdates.MonthLocator(interval=4))\n",
    "ax.get_xaxis().set_major_formatter(mdates.DateFormatter(\"%b %Y\"))\n",
    "plt.setp(ax.get_xticklabels(), rotation=30, ha=\"right\")\n",
    "\n",
    "# remove y axis and spines\n",
    "ax.get_yaxis().set_visible(False)\n",
    "for spine in [\"left\", \"top\", \"right\"]:\n",
    "    ax.spines[spine].set_visible(False)\n",
    "\n",
    "ax.margins(y=0.1)\n",
    "\n",
    "plt.show()"
   ]
  },
  {
   "cell_type": "code",
   "execution_count": 9,
   "id": "fitting-robertson",
   "metadata": {},
   "outputs": [
    {
     "data": {
      "text/html": [
       "<div>\n",
       "<style scoped>\n",
       "    .dataframe tbody tr th:only-of-type {\n",
       "        vertical-align: middle;\n",
       "    }\n",
       "\n",
       "    .dataframe tbody tr th {\n",
       "        vertical-align: top;\n",
       "    }\n",
       "\n",
       "    .dataframe thead th {\n",
       "        text-align: right;\n",
       "    }\n",
       "</style>\n",
       "<table border=\"1\" class=\"dataframe\">\n",
       "  <thead>\n",
       "    <tr style=\"text-align: right;\">\n",
       "      <th></th>\n",
       "      <th>CIX</th>\n",
       "      <th>Name</th>\n",
       "      <th>Submission Date</th>\n",
       "      <th>Txt_URL</th>\n",
       "      <th>HTML_URL</th>\n",
       "    </tr>\n",
       "    <tr>\n",
       "      <th>Filing</th>\n",
       "      <th></th>\n",
       "      <th></th>\n",
       "      <th></th>\n",
       "      <th></th>\n",
       "      <th></th>\n",
       "    </tr>\n",
       "  </thead>\n",
       "  <tbody>\n",
       "    <tr>\n",
       "      <th>10-K</th>\n",
       "      <td>14</td>\n",
       "      <td>14</td>\n",
       "      <td>14</td>\n",
       "      <td>14</td>\n",
       "      <td>14</td>\n",
       "    </tr>\n",
       "    <tr>\n",
       "      <th>10-Q</th>\n",
       "      <td>40</td>\n",
       "      <td>40</td>\n",
       "      <td>40</td>\n",
       "      <td>40</td>\n",
       "      <td>40</td>\n",
       "    </tr>\n",
       "    <tr>\n",
       "      <th>10-Q/A</th>\n",
       "      <td>4</td>\n",
       "      <td>4</td>\n",
       "      <td>4</td>\n",
       "      <td>4</td>\n",
       "      <td>4</td>\n",
       "    </tr>\n",
       "    <tr>\n",
       "      <th>11-K</th>\n",
       "      <td>8</td>\n",
       "      <td>8</td>\n",
       "      <td>8</td>\n",
       "      <td>8</td>\n",
       "      <td>8</td>\n",
       "    </tr>\n",
       "    <tr>\n",
       "      <th>8-K</th>\n",
       "      <td>4</td>\n",
       "      <td>4</td>\n",
       "      <td>4</td>\n",
       "      <td>4</td>\n",
       "      <td>4</td>\n",
       "    </tr>\n",
       "  </tbody>\n",
       "</table>\n",
       "</div>"
      ],
      "text/plain": [
       "        CIX  Name  Submission Date  Txt_URL  HTML_URL\n",
       "Filing                                               \n",
       "10-K     14    14               14       14        14\n",
       "10-Q     40    40               40       40        40\n",
       "10-Q/A    4     4                4        4         4\n",
       "11-K      8     8                8        8         8\n",
       "8-K       4     4                4        4         4"
      ]
     },
     "execution_count": 9,
     "metadata": {},
     "output_type": "execute_result"
    }
   ],
   "source": [
    "df_enron.groupby('Filing').count()"
   ]
  },
  {
   "cell_type": "code",
   "execution_count": null,
   "id": "recreational-operation",
   "metadata": {},
   "outputs": [],
   "source": []
  },
  {
   "cell_type": "code",
   "execution_count": 11,
   "id": "mediterranean-quebec",
   "metadata": {},
   "outputs": [],
   "source": [
    "#Import Prices\n",
    "cwd = os.getcwd()\n",
    "file1 = os.path.join(cwd, \"../prices/enronstockchart_conv.pdf\")\n",
    "file2 = os.path.join(cwd, \"../prices/enronstockchart-2_conv.pdf\")\n",
    "\n",
    "df1 = tabula.read_pdf(file1, pages='all', multiple_tables=True)\n",
    "df2 = tabula.read_pdf(file2, pages='all', multiple_tables=True)"
   ]
  },
  {
   "cell_type": "code",
   "execution_count": 12,
   "id": "soviet-quick",
   "metadata": {
    "scrolled": true
   },
   "outputs": [],
   "source": [
    "tmp = pd.DataFrame(df1[0])[2:]\n",
    "df = pd.DataFrame()\n",
    "df[0] = tmp[0].apply(lambda x: x.split()[0])\n",
    "df[1] = tmp[0].apply(lambda x: x.split()[1])\n",
    "df[2] = tmp[1].apply(lambda x: x.split()[0])\n",
    "df[3] = tmp[1].apply(lambda x: x.split()[1])\n",
    "df[4] = tmp[1].apply(lambda x: x.split()[2])\n",
    "df[5] = tmp[1].apply(lambda x: x.split()[3])\n",
    "df[6] = tmp[2]\n",
    "df[7] = tmp[3]"
   ]
  },
  {
   "cell_type": "code",
   "execution_count": 13,
   "id": "naked-coast",
   "metadata": {},
   "outputs": [],
   "source": [
    "#Add other pages to df\n",
    "for x in range(1, len(df1)):\n",
    "    tmp = pd.DataFrame(df1[x])\n",
    "    df = df.append(tmp)\n",
    "for x in range(len(df2)):\n",
    "    tmp = pd.DataFrame(df2[x])\n",
    "    df = df.append(tmp)"
   ]
  },
  {
   "cell_type": "code",
   "execution_count": 14,
   "id": "loose-humor",
   "metadata": {},
   "outputs": [],
   "source": [
    "df.rename(columns={0:\"Date\",1:\"Open\",2:\"High\",3:\"Low\",4:\"Close\",5:\"Volume\",6:\"Change\",7:\"Change %\"}, inplace=True)\n",
    "df['Date'] = df['Date'].apply(lambda x: pd.to_datetime(x, format='%m/%d/%Y', errors='coerce'))\n",
    "df['Close'] = df['Close'].apply(lambda x: x.replace(',', '.'))\n",
    "df['Close'] = df['Close'].astype(float)\n",
    "\n",
    "df = df.sort_values('Date', ascending=True)\n",
    "df.reset_index(inplace=True, drop=True)"
   ]
  },
  {
   "cell_type": "code",
   "execution_count": 15,
   "id": "aging-allowance",
   "metadata": {},
   "outputs": [],
   "source": [
    "#Events Dataframe\n",
    "df_events = pd.DataFrame(dates)\n",
    "df_events.rename(columns={'Submission Date':'Date'}, inplace=True)\n",
    "df_events['Event_Type'] = names\n",
    "\n",
    "#Merged Prices and Events\n",
    "df = df.merge(df_events, on='Date', how='left')"
   ]
  },
  {
   "cell_type": "code",
   "execution_count": 16,
   "id": "other-ivory",
   "metadata": {},
   "outputs": [
    {
     "data": {
      "image/png": "[encoded data removed]",
      "text/plain": [
       "<Figure size 720x432 with 1 Axes>"
      ]
     },
     "metadata": {
      "needs_background": "light"
     },
     "output_type": "display_data"
    }
   ],
   "source": [
    "#Create combo chart\n",
    "fig, ax1 = plt.subplots(figsize=(10,6))\n",
    "color = 'tab:green'\n",
    "#bar plot creation\n",
    "ax1.set_title('Enron Price Over Time', fontsize=16)\n",
    "ax1.set_xlabel('Quarter', fontsize=16)\n",
    "ax1.set_ylabel('Price', fontsize=16)\n",
    "sns.lineplot(data=df, x=\"Date\", y=\"Close\")\n",
    "sns.scatterplot(data=df, x=\"Date\", y=\"Close\", hue='Event_Type', s=75, edgecolor='r',\n",
    "                linewidth=1)  # Baseline and markers on it.\n",
    "ax1.get_xaxis().set_major_locator(mdates.MonthLocator(interval=4))\n",
    "ax1.get_xaxis().set_major_formatter(mdates.DateFormatter(\"%b %Y\"))\n",
    "plt.setp(ax1.get_xticklabels(), rotation=30, ha=\"right\")\n",
    "ax1.tick_params(axis='y')\n",
    "plt.show()"
   ]
  },
  {
   "cell_type": "code",
   "execution_count": 19,
   "id": "curious-measurement",
   "metadata": {},
   "outputs": [],
   "source": [
    "#Pickle Dataframe\n",
    "cwd = os.getcwd()\n",
    "filepath_pickle = os.path.join(cwd, \"../dataframes/prices_events.pickle\")\n",
    "df.to_pickle(filepath_pickle)"
   ]
  },
  {
   "cell_type": "code",
   "execution_count": null,
   "id": "polyphonic-vegetation",
   "metadata": {},
   "outputs": [],
   "source": []
  }
 ],
 "metadata": {
  "kernelspec": {
   "display_name": "Python 3",
   "language": "python",
   "name": "python3"
  },
  "language_info": {
   "codemirror_mode": {
    "name": "ipython",
    "version": 3
   },
   "file_extension": ".py",
   "mimetype": "text/x-python",
   "name": "python",
   "nbconvert_exporter": "python",
   "pygments_lexer": "ipython3",
   "version": "3.7.10"
  }
 },
 "nbformat": 4,
 "nbformat_minor": 5
}
